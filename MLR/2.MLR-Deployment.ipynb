{
 "cells": [
  {
   "cell_type": "code",
   "execution_count": 1,
   "id": "4be595c1-ca81-4d8d-b2a9-57b9a557b2fe",
   "metadata": {},
   "outputs": [],
   "source": [
    "# Importing the pickle library in the deployment file to enable saving and loading of models\n",
    "import pickle"
   ]
  },
  {
   "cell_type": "code",
   "execution_count": 5,
   "id": "c499d87d-e412-4f39-88b0-4bedb0d49a92",
   "metadata": {},
   "outputs": [
    {
     "name": "stderr",
     "output_type": "stream",
     "text": [
      "C:\\Anaconda3-AI-Training\\Lib\\site-packages\\sklearn\\base.py:493: UserWarning: X does not have valid feature names, but LinearRegression was fitted with feature names\n",
      "  warnings.warn(\n"
     ]
    },
    {
     "data": {
      "text/plain": [
       "array([[52982.46311649]])"
      ]
     },
     "execution_count": 5,
     "metadata": {},
     "output_type": "execute_result"
    }
   ],
   "source": [
    "# Loading the previously saved linear regression model from the file using pickle\n",
    "loaded_model = pickle.load(open(\"finalized_model_Mul_linear.sav\", 'rb'))\n",
    "\n",
    "# Using the loaded model to make a prediction for 15 years of experience\n",
    "result = loaded_model.predict([[12345.20,23456.80,3456.10,0,0]])\n",
    "\n",
    "result"
   ]
  },
  {
   "cell_type": "code",
   "execution_count": null,
   "id": "dae8c0a6-3040-4b0b-8d3f-bb6657e038c1",
   "metadata": {},
   "outputs": [],
   "source": []
  }
 ],
 "metadata": {
  "kernelspec": {
   "display_name": "Python [conda env:base] *",
   "language": "python",
   "name": "conda-base-py"
  },
  "language_info": {
   "codemirror_mode": {
    "name": "ipython",
    "version": 3
   },
   "file_extension": ".py",
   "mimetype": "text/x-python",
   "name": "python",
   "nbconvert_exporter": "python",
   "pygments_lexer": "ipython3",
   "version": "3.12.7"
  }
 },
 "nbformat": 4,
 "nbformat_minor": 5
}
